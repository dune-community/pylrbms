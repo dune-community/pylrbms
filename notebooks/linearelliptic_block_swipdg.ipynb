{
 "cells": [
  {
   "cell_type": "markdown",
   "metadata": {},
   "source": [
    "P1 discontinuous SWIPDG, stationary linear elliptic ESV2007 problem\n",
    "==================================\n",
    "\n",
    "This example is about approximating the solution $u$ of the elliptic problem\n",
    "\n",
    "$$\\begin{align}\n",
    "  -\\nabla\\cdot( \\kappa \\nabla u ) &= f   &&\\text{in } \\Omega\\\\\n",
    "                                u &= g_D &&\\text{on }\\partial\\Omega\n",
    "\\end{align}$$\n",
    "\n",
    "with datafunction as defined in `dune/gdt/test/linearelliptic/problems/ESV2007.hh` (see below) using a piecewise linear block SWIPDG scheme, as in `dune/gdt/test/linearelliptic/discretizers/block-ipdg.hh`."
   ]
  },
  {
   "cell_type": "code",
   "execution_count": null,
   "metadata": {
    "collapsed": true
   },
   "outputs": [],
   "source": [
    "import numpy as np"
   ]
  },
  {
   "cell_type": "code",
   "execution_count": null,
   "metadata": {
    "collapsed": true
   },
   "outputs": [],
   "source": [
    "from dune.xt.common import init_logger, init_mpi\n",
    "init_mpi()\n",
    "init_logger()"
   ]
  },
  {
   "cell_type": "markdown",
   "metadata": {},
   "source": [
    "$$\\begin{align}\n",
    "  \\Omega &= [-1, 1]^2\\\\\n",
    "  \\Gamma_D &= \\partial\\Omega\\\\\n",
    "  \\Gamma_N &= \\emptyset\n",
    "\\end{align}$$"
   ]
  },
  {
   "cell_type": "code",
   "execution_count": null,
   "metadata": {
    "collapsed": true
   },
   "outputs": [],
   "source": [
    "from dune.xt.grid import (make_cube_dd_subdomains_grid__2d_simplex_aluconform as make_grid,\n",
    "                          make_boundary_info_on_dd_subdomain_layer as make_boundary_info)\n",
    "\n",
    "# the inner_boundary_segment_index must be larger than the number of boundary intersections of the fine grid\n",
    "# a good guess is std::numeric_limits<size_t>::max() - 42 = 18446744073709551615 - 42 = 18446744073709551573\n",
    "inner_boundary_id = 18446744073709551573\n",
    "grid = make_grid(lower_left=[-1, -1], upper_right=[1, 1], num_elements=[4, 4], num_refinements=2,\n",
    "                 num_partitions=[2, 2], num_oversampling_layers=0, inner_boundary_segment_index=inner_boundary_id)\n",
    "grid.visualize('../block_swipdg_esv2007_grid', with_coupling=True)\n",
    "\n",
    "boundary_info = make_boundary_info(grid, {'type': 'xt.grid.boundaryinfo.boundarysegmentindexbased',\n",
    "                                          'default': 'dirichlet',\n",
    "                                          'neumann': '[{} {}]'.format(inner_boundary_id, inner_boundary_id+1)})"
   ]
  },
  {
   "cell_type": "markdown",
   "metadata": {},
   "source": [
    "$$\\begin{align}\\lambda(x) &:= 1\\\\\n",
    "\\kappa(x) &:= [1, 0; 0, 1] \\in \\mathbb{R}^{2\\times 2}\\\\\n",
    "f(x) &:= \\tfrac{1}{2} \\pi^2 \\cos(\\tfrac{1}{2} \\pi x_0) \\cos(\\tfrac{1}{2} \\pi x_1)\\\\\n",
    "g_D(x) &:= 0\\end{align}$$\n",
    "\n",
    "Note that the `grid` is only provided to select the correct _type_ of function; these functions do not rely on the actual grid object."
   ]
  },
  {
   "cell_type": "code",
   "execution_count": null,
   "metadata": {
    "collapsed": true
   },
   "outputs": [],
   "source": [
    "from dune.xt.functions import make_constant_function_1x1, make_constant_function_2x2, make_expression_function_1x1\n",
    "\n",
    "lmbda = make_constant_function_1x1(grid, 1.0, name='diffusion')\n",
    "kappa = make_constant_function_2x2(grid, [[1., 0.], [0., 1.]], name='diffusion')\n",
    "f = make_expression_function_1x1(grid, 'x', '0.5*pi*pi*cos(0.5*pi*x[0])*cos(0.5*pi*x[1])', order=3, name='force')\n",
    "g_D = make_constant_function_1x1(grid, 0.0, name='dirichlet')"
   ]
  },
  {
   "cell_type": "code",
   "execution_count": null,
   "metadata": {},
   "outputs": [],
   "source": [
    "from dune.xt.la import (IstlRowMajorSparseMatrixDouble as Matrix,\n",
    "                        IstlDenseVectorDouble as Vector)\n",
    "from dune.gdt import make_block_dg_dd_subdomain_part_to_1x1_fem_p1_space as make_block_space\n",
    "\n",
    "block_space = make_block_space(grid)\n",
    "\n",
    "print('preparing local and coupling containers ...')\n",
    "local_patterns = [block_space.local_space(ii).compute_pattern('face_and_volume')\n",
    "                  for ii in np.arange(block_space.num_blocks)]\n",
    "coupling_patterns = {}\n",
    "for ii in np.arange(grid.num_subdomains):\n",
    "    for jj in grid.neighboring_subdomains(ii):\n",
    "            coupling_patterns[(ii, jj)] = block_space.compute_coupling_pattern(ii, jj, 'face')\n",
    "# if we did CG locally, we would additionally need those:\n",
    "#boundary_patterns = {}\n",
    "#for ii in grid.boundary_subdomains():\n",
    "#    boundary_patterns[ii] = block_space.compute_boundary_pattern(ii, 'face')\n",
    "\n",
    "local_matrices = [None]*grid.num_subdomains\n",
    "local_vectors = [None]*grid.num_subdomains\n",
    "coupling_matrices = {}\n",
    "for ii in np.arange(grid.num_subdomains):\n",
    "    local_matrices[ii] = Matrix(block_space.local_space(ii).size(),\n",
    "                                block_space.local_space(ii).size(),\n",
    "                                local_patterns[ii])\n",
    "    local_vectors[ii] = Vector(block_space.local_space(ii).size())\n",
    "for ii in np.arange(grid.num_subdomains):\n",
    "    for jj in grid.neighboring_subdomains(ii):\n",
    "        coupling_matrices[(ii, jj)] = Matrix(block_space.local_space(ii).size(),\n",
    "                                             block_space.local_space(jj).size(),\n",
    "                                             coupling_patterns[(ii, jj)])\n",
    "# if we did CG locally, we would additionally need boundary_matrices\n",
    "# and boundary_vectors (for non-trivial boundary data)"
   ]
  },
  {
   "cell_type": "code",
   "execution_count": null,
   "metadata": {},
   "outputs": [],
   "source": [
    "from dune.xt.grid import (make_apply_on_inner_intersections_2d_simplex_aluconformgrid_dd_subdomain_coupling_part\n",
    "                          as make_apply_on_inner_intersections)\n",
    "\n",
    "from dune.gdt import (make_elliptic_swipdg_affine_factor_matrix_operator as make_elliptic_swipdg_matrix_operator,\n",
    "                      make_l2_volume_vector_functional,\n",
    "                      make_local_elliptic_swipdg_affine_factor_inner_integral_operator as make_local_elliptic_swipdg_coupling_operator,\n",
    "                      make_local_coupling_two_form_assembler,\n",
    "                      make_system_assembler)\n",
    "\n",
    "print('assembling local containers ...')\n",
    "\n",
    "def assemble_local_contributions(subdomain):\n",
    "    ipdg_operator = make_elliptic_swipdg_matrix_operator(lmbda, kappa, boundary_info, local_matrices[subdomain],\n",
    "                                                         block_space.local_space(subdomain))\n",
    "    l2_functional = make_l2_volume_vector_functional(f, local_vectors[subdomain], block_space.local_space(subdomain))\n",
    "    local_assembler = make_system_assembler(block_space.local_space(subdomain))\n",
    "    local_assembler.append(ipdg_operator)\n",
    "    local_assembler.append(l2_functional)\n",
    "    local_assembler.assemble()    \n",
    "    \n",
    "for ii in np.arange(grid.num_subdomains):\n",
    "    assemble_local_contributions(ii)\n",
    "\n",
    "print('assembling coupling matrices ...')\n",
    "\n",
    "local_ipdg_coupling_operator = make_local_elliptic_swipdg_coupling_operator(lmbda, kappa)\n",
    "local_coupling_assembler = make_local_coupling_two_form_assembler(local_ipdg_coupling_operator)\n",
    "apply_on_inner_intersections = make_apply_on_inner_intersections()\n",
    "\n",
    "def assemble_coupling_contributions(subdomain, neighboring_subdomain):\n",
    "    coupling_assembler = block_space.coupling_assembler(subdomain, neighboring_subdomain)\n",
    "    coupling_assembler.append(local_coupling_assembler,\n",
    "                              local_matrices[subdomain],\n",
    "                              local_matrices[neighboring_subdomain],\n",
    "                              coupling_matrices[(subdomain, neighboring_subdomain)],\n",
    "                              coupling_matrices[(neighboring_subdomain, subdomain)],\n",
    "                              apply_on_inner_intersections) # The coupling assembler visits only coupling intersections\n",
    "    # between the subdomains, those only once ond those are marked as inner. Thus we need to apply on inner intersections\n",
    "    # to assemble primally.\n",
    "    \n",
    "for ii in np.arange(grid.num_subdomains):\n",
    "    for jj in grid.neighboring_subdomains(ii):\n",
    "        if ii < jj: # Assemble primally (visit each intersection only once).\n",
    "            assemble_coupling_contributions(ii, jj)"
   ]
  },
  {
   "cell_type": "code",
   "execution_count": null,
   "metadata": {},
   "outputs": [],
   "source": [
    "print('creating global container ...')\n",
    "\n",
    "from dune.xt.la import IstlDenseVectorDouble, IstlRowMajorSparseMatrixDouble, SparsityPatternDefault\n",
    "\n",
    "global_pattern = SparsityPatternDefault(block_space.mapper.size)\n",
    "for ii in np.arange(grid.num_subdomains):\n",
    "    block_space.mapper.copy_local_to_global(local_patterns[ii], ii, global_pattern)\n",
    "    for jj in grid.neighboring_subdomains(ii):\n",
    "        block_space.mapper.copy_local_to_global(coupling_patterns[(ii, jj)], ii, jj, global_pattern)\n",
    "        block_space.mapper.copy_local_to_global(coupling_patterns[(jj, ii)], jj, ii, global_pattern)\n",
    "        \n",
    "system_matrix = IstlRowMajorSparseMatrixDouble(block_space.mapper.size, block_space.mapper.size, global_pattern)\n",
    "rhs_vector = IstlDenseVectorDouble(block_space.mapper.size, 0.)\n",
    "for ii in np.arange(grid.num_subdomains):\n",
    "    block_space.mapper.copy_local_to_global(local_matrices[ii], local_patterns[ii], ii, system_matrix)\n",
    "    block_space.mapper.copy_local_to_global(local_vectors[ii], ii, rhs_vector)\n",
    "    for jj in grid.neighboring_subdomains(ii):\n",
    "        block_space.mapper.copy_local_to_global(coupling_matrices[(ii, jj)],\n",
    "                                                coupling_patterns[(ii, jj)],\n",
    "                                                ii, jj, system_matrix)\n",
    "        block_space.mapper.copy_local_to_global(coupling_matrices[(jj, ii)],\n",
    "                                                coupling_patterns[(jj, ii)],\n",
    "                                                jj, ii, system_matrix)"
   ]
  },
  {
   "cell_type": "code",
   "execution_count": null,
   "metadata": {},
   "outputs": [],
   "source": [
    "from dune.xt.la import make_solver\n",
    "from dune.gdt import make_discrete_function\n",
    "\n",
    "print('solving linear system (of size {}x{}) ...'.format(block_space.mapper.size, block_space.mapper.size))\n",
    "solution = IstlDenseVectorDouble(block_space.mapper.size, 0.0)\n",
    "make_solver(system_matrix).apply(rhs_vector, solution)\n",
    "make_discrete_function(block_space, solution, 'solution').visualize('../block_swipdg_esv2007_solution')"
   ]
  }
 ],
 "metadata": {
  "kernelspec": {
   "display_name": "Python 3",
   "language": "python",
   "name": "python3"
  },
  "language_info": {
   "codemirror_mode": {
    "name": "ipython",
    "version": 3
   },
   "file_extension": ".py",
   "mimetype": "text/x-python",
   "name": "python",
   "nbconvert_exporter": "python",
   "pygments_lexer": "ipython3",
   "version": "3.4.2"
  }
 },
 "nbformat": 4,
 "nbformat_minor": 1
}
