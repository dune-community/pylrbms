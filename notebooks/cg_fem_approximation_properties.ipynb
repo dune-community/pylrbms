{
 "cells": [
  {
   "cell_type": "markdown",
   "metadata": {},
   "source": [
    "About the approximation properties of P1 CG FEM\n",
    "========================"
   ]
  },
  {
   "cell_type": "code",
   "execution_count": null,
   "metadata": {
    "collapsed": true
   },
   "outputs": [],
   "source": [
    "from dune.xt.common import init_mpi\n",
    "init_mpi()"
   ]
  },
  {
   "cell_type": "code",
   "execution_count": null,
   "metadata": {},
   "outputs": [],
   "source": [
    "from collections import OrderedDict\n",
    "from dune.xt.grid import (make_cube_grid__1d_yaspgrid as make_cube_grid,\n",
    "                          make_boundary_info_on_leaf_layer as make_boundary_info)\n",
    "\n",
    "def make_grid(n):\n",
    "    return make_cube_grid(lower_left=[-1], upper_right=[1], num_elements=[n])\n",
    "\n",
    "grids = OrderedDict()\n",
    "for num_elements in (2, 4, 8, 128):\n",
    "    print('creating grid with {} elements ...'.format(num_elements))\n",
    "    grids[num_elements] = make_grid(num_elements)\n",
    "max_elements = list(grids.keys())[-1]\n",
    "\n",
    "boundary_info = make_boundary_info(grids[max_elements], 'xt.grid.boundaryinfo.alldirichlet')"
   ]
  },
  {
   "cell_type": "code",
   "execution_count": null,
   "metadata": {
    "collapsed": true
   },
   "outputs": [],
   "source": [
    "from dune.xt.functions import make_constant_function_1x1, make_expression_function_1x1\n",
    "\n",
    "diffusion = make_constant_function_1x1(grids[max_elements], 1.0, name='diffusion')\n",
    "#diffusion = make_expression_function_1x1(grids[max_elements], 'x', '0.71*(1+(cos(2*pi*(x[0]/0.1))*cos(2*pi*(x[0]/0.1))))', order=3, name='diffusion')\n",
    "force = make_constant_function_1x1(grids[max_elements], 1.0, name='force')\n",
    "diffusion.visualize(grids[max_elements], 'diffusion')\n",
    "exact_solution = make_expression_function_1x1(grids[max_elements], 'x', '-0.5*x[0]*x[0] + 0.5', order=2, name='exact solution')\n",
    "exact_solution.visualize(grids[max_elements], 'exact_solution')"
   ]
  },
  {
   "cell_type": "code",
   "execution_count": null,
   "metadata": {},
   "outputs": [],
   "source": [
    "from dune.gdt import (make_cg_leaf_part_to_1x1_fem_p1_space as make_space,\n",
    "                      make_discrete_function_istl_dense_vector_double,\n",
    "                      project)                      \n",
    "\n",
    "def compute_best_approximation(grid, filename_suffix):\n",
    "    space = make_space(grid)\n",
    "    best_approximation = make_discrete_function_istl_dense_vector_double(space, name='best approximation')\n",
    "    project(exact_solution, best_approximation)\n",
    "    best_approximation.visualize('best_approximation_' + filename_suffix)"
   ]
  },
  {
   "cell_type": "code",
   "execution_count": null,
   "metadata": {
    "collapsed": true
   },
   "outputs": [],
   "source": [
    "for num_elements, grid in grids.items():\n",
    "    compute_best_approximation(grid, '{}'.format(num_elements).zfill(len(str(max_elements))))"
   ]
  },
  {
   "cell_type": "code",
   "execution_count": null,
   "metadata": {
    "collapsed": true
   },
   "outputs": [],
   "source": [
    "from dune.xt.la import IstlDenseVectorDouble, make_solver\n",
    "from dune.gdt import (make_elliptic_matrix_operator_istl_row_major_sparse_matrix_double as make_elliptic_matrix_operator,\n",
    "                      make_l2_volume_vector_functional_istl_dense_vector_double as make_l2_volume_vector_functional,\n",
    "                      make_dirichlet_constraints,\n",
    "                      make_discrete_function,\n",
    "                      make_system_assembler)\n",
    "\n",
    "def compute_solution(grid, filename):\n",
    "    \n",
    "    space = make_space(grid)\n",
    "    \n",
    "    elliptic_operator = make_elliptic_matrix_operator(diffusion, space)\n",
    "    l2_force_functional = make_l2_volume_vector_functional(force, space)\n",
    "    dirichlet_constraints = make_dirichlet_constraints(boundary_info, space.size(), True)\n",
    "    \n",
    "    system_assembler = make_system_assembler(space)\n",
    "    system_assembler.append(elliptic_operator)\n",
    "    system_assembler.append(l2_force_functional)\n",
    "    system_assembler.append(dirichlet_constraints)\n",
    "    system_assembler.assemble()\n",
    "    \n",
    "    lhs_matrix = elliptic_operator.matrix()\n",
    "    rhs_vector = l2_force_functional.vector()\n",
    "    dirichlet_constraints.apply(lhs_matrix, rhs_vector)\n",
    "    \n",
    "    solution = IstlDenseVectorDouble(space.size(), 0.)\n",
    "    make_solver(lhs_matrix).apply(rhs_vector, solution)\n",
    "    \n",
    "    make_discrete_function(space, solution, 'discrete solution').visualize(filename)"
   ]
  },
  {
   "cell_type": "code",
   "execution_count": null,
   "metadata": {
    "collapsed": true,
    "scrolled": true
   },
   "outputs": [],
   "source": [
    "for num_elements, grid in grids.items():\n",
    "    compute_solution(grid, 'discrete_solution_' + '{}'.format(num_elements).zfill(len(str(max_elements))))"
   ]
  }
 ],
 "metadata": {
  "kernelspec": {
   "display_name": "Python 3",
   "language": "python",
   "name": "python3"
  },
  "language_info": {
   "codemirror_mode": {
    "name": "ipython",
    "version": 3
   },
   "file_extension": ".py",
   "mimetype": "text/x-python",
   "name": "python",
   "nbconvert_exporter": "python",
   "pygments_lexer": "ipython3",
   "version": "3.4.2"
  }
 },
 "nbformat": 4,
 "nbformat_minor": 1
}
