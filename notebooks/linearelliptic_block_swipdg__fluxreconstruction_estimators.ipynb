{
 "cells": [
  {
   "cell_type": "code",
   "execution_count": null,
   "metadata": {},
   "outputs": [],
   "source": [
    "%run linearelliptic_block_swipdg.ipynb"
   ]
  },
  {
   "cell_type": "code",
   "execution_count": null,
   "metadata": {
    "collapsed": true
   },
   "outputs": [],
   "source": [
    "import numpy as np"
   ]
  },
  {
   "cell_type": "code",
   "execution_count": null,
   "metadata": {},
   "outputs": [],
   "source": [
    "print('estimating error ...')\n",
    "\n",
    "over_integration = 2\n",
    "\n",
    "local_sizes = [block_space.local_space(ii).size() for ii in range(block_space.num_blocks)]\n",
    "local_starts = [int(np.sum(local_sizes[:ii])) for ii in range(block_space.num_blocks)]\n",
    "local_starts.append(block_space.mapper.size)\n",
    "localized_u_h_np = np.array(u_h_vector, copy=False)\n",
    "localized_u_h_np = [localized_u_h_np[local_starts[ii]:local_starts[ii+1]] for ii in range(block_space.num_blocks)]\n",
    "localized_u_h = [Vector(block_space.local_space(ii).size(), 0.) for ii in range(block_space.num_blocks)]\n",
    "for ii in range(block_space.num_blocks):\n",
    "    tmp = np.array(localized_u_h[ii], copy=False)\n",
    "    tmp[:] = localized_u_h_np[ii][:]\n",
    "local_boundary_info = make_subdomain_boundary_info(grid, {'type': 'xt.grid.boundaryinfo.boundarysegmentindexbased',\n",
    "                                                          'default': 'dirichlet',\n",
    "                                                          'neumann': '[{} {}]'.format(inner_boundary_id, inner_boundary_id+1)})\n",
    "\n",
    "# the nonconformity indicator\n",
    "from dune.gdt import (\n",
    "    make_ESV2007_nonconformity_product_dd_subdomain_part_dd_subdomain_oversampled_part\n",
    "        as make_local_nonconformity_product\n",
    ")\n",
    "\n",
    "eta_nc_squared = 0.\n",
    "for ii in range(grid.num_subdomains):\n",
    "    local_u_h_ii = make_discrete_function(block_space.local_space(ii), localized_u_h[ii], 'u_h'.format(ii))\n",
    "\n",
    "    neighborhood = grid.neighborhood_of(ii)\n",
    "    neighborhood_space = block_space.restricted_to_neighborhood(neighborhood)\n",
    "    restricted_u_h_vector = neighborhood_space.project_onto_neighborhood([localized_u_h[jj] for jj in neighborhood],\n",
    "                                                                         neighborhood)\n",
    "    restricted_u_h = make_discrete_function(neighborhood_space, restricted_u_h_vector, 'u_h')\n",
    "    local_nonconformity_product = make_local_nonconformity_product(grid, local_boundary_info,\n",
    "                                                                   lambda_, kappa,\n",
    "                                                                   restricted_u_h, restricted_u_h,\n",
    "                                                                   over_integration,\n",
    "                                                                   ii, ii)\n",
    "    eta_nc_squared += local_nonconformity_product.apply2()\n",
    "print('  nonconformity indicator: is {} (should be close to 1.66e-01)'.format(np.sqrt(eta_nc_squared)))"
   ]
  }
 ],
 "metadata": {
  "kernelspec": {
   "display_name": "Python 3",
   "language": "python",
   "name": "python3"
  },
  "language_info": {
   "codemirror_mode": {
    "name": "ipython",
    "version": 3
   },
   "file_extension": ".py",
   "mimetype": "text/x-python",
   "name": "python",
   "nbconvert_exporter": "python",
   "pygments_lexer": "ipython3",
   "version": "3.6.1"
  }
 },
 "nbformat": 4,
 "nbformat_minor": 1
}
