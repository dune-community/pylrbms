{
 "cells": [
  {
   "cell_type": "markdown",
   "metadata": {},
   "source": [
    "P1 discontinuous SWIPDG, stationary linear elliptic ESV2007 problem\n",
    "==================================\n",
    "\n",
    "This example is about approximating the solution $u$ of the elliptic problem\n",
    "\n",
    "$$\\begin{align}\n",
    "  -\\nabla\\cdot( \\kappa \\nabla u ) &= f   &&\\text{in } \\Omega\\\\\n",
    "                                u &= g_D &&\\text{on }\\partial\\Omega\n",
    "\\end{align}$$\n",
    "\n",
    "with datafunction as defined in `dune/gdt/test/linearelliptic/problems/ESV2007.hh` (see below) using a piecewise linear SWIPDG scheme, as in `dune/gdt/test/linearelliptic/discretizers/ipdg.hh`.\n",
    "\n",
    "Note that the discretization below contains handling of arbitrary Dirichlet and Neumann boundary data, although the problem at hand contains only trivial Dirichlet data."
   ]
  },
  {
   "cell_type": "code",
   "execution_count": null,
   "metadata": {
    "collapsed": true
   },
   "outputs": [],
   "source": [
    "from dune.xt import common, grid, functions, la\n",
    "from dune import gdt\n",
    "common.init_mpi()"
   ]
  },
  {
   "cell_type": "markdown",
   "metadata": {},
   "source": [
    "$$\\begin{align}\n",
    "  \\Omega &= [-1, 1]^2\\\\\n",
    "  \\Gamma_D &= \\partial\\Omega\\\\\n",
    "  \\Gamma_N &= \\emptyset\n",
    "\\end{align}$$"
   ]
  },
  {
   "cell_type": "code",
   "execution_count": null,
   "metadata": {
    "collapsed": true
   },
   "outputs": [],
   "source": [
    "g = grid.make_cube_grid__2d_simplex_aluconform(lower_left=[-1, -1],\n",
    "                                               upper_right=[1, 1],\n",
    "                                               num_elements=[4, 4],\n",
    "                                               num_refinements=2,\n",
    "                                               overlap_size=[0, 0])\n",
    "#g.visualize('../swipdg_esv2007_grid')\n",
    "boundary_info = grid.make_boundary_info_on_leaf_layer(g, 'xt.grid.boundaryinfo.alldirichlet')\n",
    "apply_on_neumann_boundary = grid.make_apply_on_neumann_intersections_leaf_part(boundary_info)\n",
    "apply_on_dirichlet_boundary = grid.make_apply_on_dirichlet_intersections_leaf_part(boundary_info)"
   ]
  },
  {
   "cell_type": "markdown",
   "metadata": {},
   "source": [
    "$$\\begin{align}\\kappa(x) &:= 1\\\\\n",
    "f(x) &:= \\tfrac{1}{2} \\pi^2 \\cos(\\tfrac{1}{2} \\pi x_0) \\cos(\\tfrac{1}{2} \\pi x_1)\\\\\n",
    "g_D(x) &:= 0\\end{align}$$\n",
    "\n",
    "Note that the grid `g` is only provided to select the correct _type_ of function. These functions do not rely on the actual grid which is why we need to later on provide the grid again, i.e., for `visualize(g)`."
   ]
  },
  {
   "cell_type": "code",
   "execution_count": null,
   "metadata": {
    "collapsed": true
   },
   "outputs": [],
   "source": [
    "kappa = functions.make_constant_function_1x1(g, 1.0, name='diffusion')\n",
    "f = functions.make_expression_function_1x1(g,\n",
    "                                           'x',\n",
    "                                           '0.5*pi*pi*cos(0.5*pi*x[0])*cos(0.5*pi*x[1])',\n",
    "                                           order=3,\n",
    "                                           name='force')\n",
    "g_D = functions.make_constant_function_1x1(g, 0.0, name='dirichlet')\n",
    "g_N = functions.make_constant_function_1x1(g, 0.0, name='neumann')\n",
    "#kappa.visualize(g, '../swipdg_esv2007_diffusion')\n",
    "#f.visualize(g, '../swipdg_esv2007_force')"
   ]
  },
  {
   "cell_type": "code",
   "execution_count": null,
   "metadata": {},
   "outputs": [],
   "source": [
    "space = gdt.make_dg_leaf_part_to_1x1_fem_p1_space(g)\n",
    "#space.visualize('../swipdg_esv2007_dg_space')\n",
    "\n",
    "# There are two ways to create containers: \n",
    "# * manually create them and given them to the operators/functionals\n",
    "# * let those create appropriate ones\n",
    "\n",
    "# in the CG example we chose the latter, so here we do the former\n",
    "system_matrix = la.IstlRowMajorSparseMatrixDouble(space.size(), space.size(), space.compute_pattern('face_and_volume'))\n",
    "swipdg_operator = gdt.make_elliptic_swipdg_matrix_operator(kappa, boundary_info, system_matrix, space)\n",
    "\n",
    "rhs_vector = la.IstlDenseVectorDouble(space.size(), 0.0)\n",
    "l2_force_functional = gdt.make_l2_volume_vector_functional(f, rhs_vector, space)\n",
    "\n",
    "# there are two equivalent ways to restrict the integration domain of the face functional:\n",
    "# * provide an apply_on_... tag on construction\n",
    "# * provide an apply_on_... tag when appending the functional to the system assembler\n",
    "\n",
    "l2_neumann_functional = gdt.make_l2_face_vector_functional(g_N, rhs_vector, space, apply_on_neumann_boundary)\n",
    "\n",
    "swipdg_dirichlet_functional = gdt.make_elliptic_swipdg_dirichlet_vector_functional(g_D, kappa, boundary_info, rhs_vector, space)\n",
    "\n",
    "# compute everything in one grid walk\n",
    "system_assembler = gdt.make_system_assembler(space)\n",
    "system_assembler.append(swipdg_operator)\n",
    "system_assembler.append(l2_force_functional)\n",
    "system_assembler.append(l2_neumann_functional)\n",
    "system_assembler.append(swipdg_dirichlet_functional)\n",
    "system_assembler.assemble()\n",
    "\n",
    "# solve the linear system\n",
    "u_h = la.IstlDenseVectorDouble(space.size(), 0.0)\n",
    "la.make_solver(system_matrix).apply(rhs_vector, u_h)\n",
    "\n",
    "# visualize (this will write swipdg_esv2007_solution.vtu)\n",
    "gdt.make_discrete_function(space, u_h, 'solution').visualize('../swipdg_esv2007_solution')"
   ]
  }
 ],
 "metadata": {
  "kernelspec": {
   "display_name": "Python 3",
   "language": "python",
   "name": "python3"
  },
  "language_info": {
   "codemirror_mode": {
    "name": "ipython",
    "version": 3
   },
   "file_extension": ".py",
   "mimetype": "text/x-python",
   "name": "python",
   "nbconvert_exporter": "python",
   "pygments_lexer": "ipython3",
   "version": "3.4.2"
  }
 },
 "nbformat": 4,
 "nbformat_minor": 1
}
