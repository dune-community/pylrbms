{
 "cells": [
  {
   "cell_type": "markdown",
   "metadata": {},
   "source": [
    "P1 discontinuous SWIPDG, stationary linear elliptic ESV2007 problem\n",
    "==================================\n",
    "\n",
    "This example is about approximating the solution $u$ of the elliptic problem\n",
    "\n",
    "$$\\begin{align}\n",
    "  -\\nabla\\cdot( \\kappa \\nabla u ) &= f   &&\\text{in } \\Omega\\\\\n",
    "                                u &= g_D &&\\text{on }\\partial\\Omega\n",
    "\\end{align}$$\n",
    "\n",
    "with datafunction as defined in `dune/gdt/test/linearelliptic/problems/ESV2007.hh` (see below) using a piecewise linear SWIPDG scheme, as in `dune/gdt/test/linearelliptic/discretizers/ipdg.hh`.\n",
    "\n",
    "Note that the discretization below contains handling of arbitrary Dirichlet and Neumann boundary data, although the problem at hand contains only trivial Dirichlet data."
   ]
  },
  {
   "cell_type": "code",
   "execution_count": null,
   "metadata": {
    "collapsed": true
   },
   "outputs": [],
   "source": [
    "from dune.xt.common import init_logger, init_mpi\n",
    "init_mpi()"
   ]
  },
  {
   "cell_type": "markdown",
   "metadata": {},
   "source": [
    "$$\\begin{align}\n",
    "  \\Omega &= [-1, 1]^2\\\\\n",
    "  \\Gamma_D &= \\partial\\Omega\\\\\n",
    "  \\Gamma_N &= \\emptyset\n",
    "\\end{align}$$"
   ]
  },
  {
   "cell_type": "code",
   "execution_count": null,
   "metadata": {
    "collapsed": true
   },
   "outputs": [],
   "source": [
    "print('initializing grid and problem ...')\n",
    "\n",
    "from dune.xt.grid import (\n",
    "    make_cube_grid__2d_simplex_aluconform as make_cube_grid,\n",
    "    make_boundary_info_on_leaf_layer as make_boundary_info,\n",
    "    make_apply_on_dirichlet_intersections_leaf_part as make_apply_on_dirichlet_intersections,\n",
    "    make_apply_on_neumann_intersections_leaf_part as make_apply_on_neumann_intersections\n",
    ")\n",
    "\n",
    "# The estimator notebook relies on this grid cfg!\n",
    "grid = make_cube_grid(lower_left=[-1, -1], upper_right=[1, 1], num_elements=[4, 4], num_refinements=2)\n",
    "boundary_info = make_boundary_info(grid, 'xt.grid.boundaryinfo.alldirichlet')\n",
    "apply_on_dirichlet_intersections = make_apply_on_dirichlet_intersections(boundary_info)\n",
    "apply_on_neumann_intersections = make_apply_on_neumann_intersections(boundary_info)"
   ]
  },
  {
   "cell_type": "markdown",
   "metadata": {},
   "source": [
    "$$\\begin{align}\\kappa(x) &:= 1\\\\\n",
    "f(x) &:= \\tfrac{1}{2} \\pi^2 \\cos(\\tfrac{1}{2} \\pi x_0) \\cos(\\tfrac{1}{2} \\pi x_1)\\\\\n",
    "g_D(x) &:= 0\\end{align}$$\n",
    "\n",
    "Note that the grid `g` is only provided to select the correct _type_ of function. These functions do not rely on the actual grid which is why we need to later on provide the grid again, i.e., for `visualize(g)`."
   ]
  },
  {
   "cell_type": "code",
   "execution_count": null,
   "metadata": {
    "collapsed": true
   },
   "outputs": [],
   "source": [
    "from dune.xt.functions import (\n",
    "    make_constant_function_1x1,\n",
    "    make_constant_function_2x2,\n",
    "    make_expression_function_1x1\n",
    ")\n",
    "\n",
    "# The estimator notebook relies on this problem cfg!\n",
    "lambda_ = make_constant_function_1x1(grid, 1.0, name='lambda')\n",
    "kappa = make_constant_function_2x2(grid, [[1., 0.], [0., 1.]], name='kappa')\n",
    "f = make_expression_function_1x1(grid, 'x', '0.5*pi*pi*cos(0.5*pi*x[0])*cos(0.5*pi*x[1])', order=3, name='f')\n",
    "g_D = make_constant_function_1x1(grid, 0.0, name='g_D')\n",
    "g_N = make_constant_function_1x1(grid, 0.0, name='g_N')"
   ]
  },
  {
   "cell_type": "code",
   "execution_count": null,
   "metadata": {
    "collapsed": true
   },
   "outputs": [],
   "source": [
    "print('discretizing ...')\n",
    "\n",
    "from dune.xt.la import (\n",
    "    IstlRowMajorSparseMatrixDouble as Matrix,\n",
    "    IstlDenseVectorDouble as Vector\n",
    ")\n",
    "\n",
    "from dune.gdt import (\n",
    "    make_dg_leaf_part_to_1x1_fem_p1_space as make_dg_space,\n",
    "    make_elliptic_swipdg_matrix_operator,\n",
    "    make_l2_volume_vector_functional,\n",
    "    make_l2_face_vector_functional,\n",
    "    make_elliptic_swipdg_dirichlet_vector_functional,\n",
    "    make_system_assembler,\n",
    "    make_discrete_function\n",
    ")\n",
    "\n",
    "space = make_dg_space(grid)\n",
    "\n",
    "# There are two ways to create containers: \n",
    "# * manually create them and given them to the operators/functionals\n",
    "# * let those create appropriate ones\n",
    "\n",
    "# in the CG example we chose the latter, so here we do the former\n",
    "system_matrix = Matrix(space.size(), space.size(), space.compute_pattern('face_and_volume'))\n",
    "swipdg_operator = make_elliptic_swipdg_matrix_operator(lambda_, kappa, boundary_info, system_matrix, space)\n",
    "\n",
    "rhs_vector = Vector(space.size(), 0.0)\n",
    "l2_force_functional = make_l2_volume_vector_functional(f, rhs_vector, space)\n",
    "swipdg_dirichlet_functional = make_elliptic_swipdg_dirichlet_vector_functional(g_D, lambda_, kappa,\n",
    "                                                                               boundary_info, rhs_vector,\n",
    "                                                                               space)\n",
    "# there are two equivalent ways to restrict the integration domain of the face functional:\n",
    "# * provide an apply_on_... tag on construction\n",
    "# * provide an apply_on_... tag when appending the functional to the system assembler\n",
    "l2_neumann_functional = make_l2_face_vector_functional(g_N, rhs_vector, space)\n",
    "\n",
    "# compute everything in one grid walk\n",
    "system_assembler = make_system_assembler(space)\n",
    "system_assembler.append(swipdg_operator)\n",
    "system_assembler.append(l2_neumann_functional, apply_on_neumann_intersections)\n",
    "system_assembler.append(l2_force_functional)\n",
    "system_assembler.append(swipdg_dirichlet_functional)\n",
    "system_assembler.assemble()"
   ]
  },
  {
   "cell_type": "code",
   "execution_count": null,
   "metadata": {
    "collapsed": true
   },
   "outputs": [],
   "source": [
    "print('solving ...')\n",
    "\n",
    "from dune.xt.la import (\n",
    "    IstlRowMajorSparseMatrixDouble as Matrix,\n",
    "    IstlDenseVectorDouble as Vector,\n",
    "    make_solver\n",
    ")\n",
    "\n",
    "# solve the linear system\n",
    "u_h_vector = Vector(space.size(), 0.0)\n",
    "make_solver(system_matrix).apply(rhs_vector, u_h_vector)\n",
    "\n",
    "# visualize (this will write swipdg_esv2007_solution.vtu)\n",
    "u_h = make_discrete_function(space, u_h_vector, 'u_h')\n",
    "u_h.visualize('../swipdg_esv2007_solution')"
   ]
  }
 ],
 "metadata": {
  "kernelspec": {
   "display_name": "Python 3",
   "language": "python",
   "name": "python3"
  },
  "language_info": {
   "codemirror_mode": {
    "name": "ipython",
    "version": 3
   },
   "file_extension": ".py",
   "mimetype": "text/x-python",
   "name": "python",
   "nbconvert_exporter": "python",
   "pygments_lexer": "ipython3",
   "version": "3.6.1"
  }
 },
 "nbformat": 4,
 "nbformat_minor": 1
}
