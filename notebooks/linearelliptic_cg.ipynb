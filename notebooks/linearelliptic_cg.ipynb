{
 "cells": [
  {
   "cell_type": "markdown",
   "metadata": {},
   "source": [
    "P1 continuous FEM, stationary linear elliptic ESV2007 problem\n",
    "================================\n",
    "\n",
    "This example is about approximating the solution $u$ of the elliptic problem\n",
    "\n",
    "$$\\begin{align}\n",
    "  -\\nabla\\cdot( \\kappa \\nabla u ) &= f   &&\\text{in } \\Omega\\\\\n",
    "                                u &= g_D &&\\text{on }\\partial\\Omega\n",
    "\\end{align}$$\n",
    "\n",
    "with datafunction as defined in `dune/gdt/test/linearelliptic/problems/ESV2007.hh` (see below) using piecewise linear continuous Finite Elements, as in `dune/gdt/test/linearelliptic/discretizers/cg.hh`.\n",
    "\n",
    "Note that the discretization below contains handling of arbitrary Dirichlet and Neumann boundary data, although the problem at hand contains only trivial Dirichlet data."
   ]
  },
  {
   "cell_type": "code",
   "execution_count": null,
   "metadata": {
    "collapsed": true
   },
   "outputs": [],
   "source": [
    "from dune.xt import common, grid, functions, la\n",
    "from dune import gdt\n",
    "common.init_mpi()"
   ]
  },
  {
   "cell_type": "markdown",
   "metadata": {},
   "source": [
    "$$\\begin{align}\n",
    "  \\Omega &= [-1, 1]^2\\\\\n",
    "  \\Gamma_D &= \\partial\\Omega\\\\\n",
    "  \\Gamma_N &= \\emptyset\n",
    "\\end{align}$$"
   ]
  },
  {
   "cell_type": "code",
   "execution_count": null,
   "metadata": {
    "collapsed": true
   },
   "outputs": [],
   "source": [
    "g = grid.make_cube_grid__2d_simplex_aluconform(lower_left=[-1, -1],\n",
    "                                               upper_right=[1, 1],\n",
    "                                               num_elements=[4, 4],\n",
    "                                               num_refinements=2,\n",
    "                                               overlap_size=[0, 0])\n",
    "#g.visualize('../cgfem_esv2007_grid')\n",
    "boundary_info = grid.make_boundary_info_on_leaf_layer(g, 'xt.grid.boundaryinfo.alldirichlet')\n",
    "apply_on_neumann_boundary = grid.make_apply_on_neumann_intersections_leaf_part(boundary_info)\n",
    "apply_on_dirichlet_boundary = grid.make_apply_on_dirichlet_intersections_leaf_part(boundary_info)"
   ]
  },
  {
   "cell_type": "markdown",
   "metadata": {},
   "source": [
    "$$\\begin{align}\\kappa(x) &:= 1\\\\\n",
    "f(x) &:= \\tfrac{1}{2} \\pi^2 \\cos(\\tfrac{1}{2} \\pi x_0) \\cos(\\tfrac{1}{2} \\pi x_1)\\\\\n",
    "g_D(x) &:= 0\\end{align}$$\n",
    "\n",
    "Note that the grid `g` is only provided to select the correct _type_ of function. These functions do not rely on the actual grid which is why we need to later on provide the grid again, i.e., for `visualize(g)`."
   ]
  },
  {
   "cell_type": "code",
   "execution_count": null,
   "metadata": {
    "collapsed": true
   },
   "outputs": [],
   "source": [
    "kappa = functions.make_constant_function_1x1(g, 1.0, name='diffusion')\n",
    "f = functions.make_expression_function_1x1(g,\n",
    "                                           'x',\n",
    "                                           '0.5*pi*pi*cos(0.5*pi*x[0])*cos(0.5*pi*x[1])',\n",
    "                                           order=3,\n",
    "                                           name='force')\n",
    "g_D = functions.make_constant_function_1x1(g, 0.0, name='dirichlet')\n",
    "g_N = functions.make_constant_function_1x1(g, 0.0, name='neumann')\n",
    "#kappa.visualize(g, '../cgfem_esv2007_diffusion')\n",
    "#f.visualize(g, '../cgfem_esv2007_force')"
   ]
  },
  {
   "cell_type": "code",
   "execution_count": null,
   "metadata": {
    "scrolled": true
   },
   "outputs": [],
   "source": [
    "space = gdt.make_cg_leaf_part_to_1x1_fem_p1_space(g)\n",
    "#space.visualize('../cgfem_esv2007_cg_space')\n",
    "\n",
    "# There are two ways to create containers: \n",
    "# * manually create them and given them to the operators/functionals\n",
    "# * let those create appropriate ones\n",
    "\n",
    "# in the SWIPDG example we chose the former, so here we do the latterfor the lhs by not providing a matrix, only the type of container\n",
    "elliptic_operator = gdt.make_elliptic_matrix_operator_istl_row_major_sparse_matrix_double(kappa, space)\n",
    "\n",
    "# for the rhs, we manually create a vector which is provided to all functionals to assemble into\n",
    "rhs_vector = la.IstlDenseVectorDouble(space.size(), 0.0)\n",
    "\n",
    "l2_force_functional = gdt.make_l2_volume_vector_functional(f, rhs_vector, space)\n",
    "\n",
    "# there are two equivalent ways to restrict the integration domain of the face functional:\n",
    "# * provide an apply_on_... tag on construction (as done here)\n",
    "# * provide an apply_on_... tag when appending the functional to the system assembler (bindings not yet present)\n",
    "l2_neumann_functional = gdt.make_l2_face_vector_functional(g_N, rhs_vector, space, apply_on_neumann_boundary)\n",
    "\n",
    "# to handle the Dirichlet boundary we require two ingredients\n",
    "# * a projection of the boundary values onto the space\n",
    "# * a collection of the degrees of freedom associated with the boundary, to constrain the resulting linera system\n",
    "g_D_h = gdt.make_discrete_function_istl_dense_vector_double(space, 'dirichlet_projection')\n",
    "dirichlet_projection_operator = gdt.make_localizable_dirichlet_projection_operator(boundary_info, g_D, g_D_h)\n",
    "dirichlet_constraints = gdt.make_dirichlet_constraints(boundary_info, space.size(), True)\n",
    "\n",
    "# compute everything in one grid walk\n",
    "system_assembler = gdt.make_system_assembler(space)\n",
    "system_assembler.append(elliptic_operator)\n",
    "system_assembler.append(l2_force_functional)\n",
    "system_assembler.append(l2_neumann_functional)\n",
    "system_assembler.append(dirichlet_projection_operator)\n",
    "system_assembler.append(dirichlet_constraints)\n",
    "system_assembler.assemble()\n",
    "\n",
    "# to form the linear system\n",
    "# * substract the Dirichlet shift\n",
    "system_matrix = elliptic_operator.matrix()\n",
    "rhs_vector -= system_matrix*g_D_h.vector()\n",
    "# * apply the Dirichlet constraints\n",
    "dirichlet_constraints.apply(system_matrix, rhs_vector)\n",
    "\n",
    "# solve the linear system\n",
    "u_h = la.IstlDenseVectorDouble(space.size(), 0.0)\n",
    "solver = la.make_solver(system_matrix)\n",
    "# there are three ways to solve the linear system, given a solver\n",
    "# (i) use the black box variant\n",
    "solver.apply(rhs_vector, u_h)\n",
    "# (ii) select the type of solver\n",
    "#print('available linear solvers:')\n",
    "#for tp in solver.types():\n",
    "#    print('  {}'.format(tp))\n",
    "#solver.apply(rhs_vector, u_h, 'superlu')\n",
    "# (iii) select the type of solver and its options\n",
    "#print('options for bicgstab.amg.ssor solver:')\n",
    "#amg_opts = solver.options('bicgstab.amg.ssor')\n",
    "#for kk, vv in amg_opts.items():\n",
    "#    print('  {}: {}'.format(kk, vv))\n",
    "#amg_opts['precision'] = '1e-8'\n",
    "#solver.apply(rhs_vector, u_h, amg_opts)\n",
    "\n",
    "# add the Dirichlet shift\n",
    "u_h += g_D_h.vector()\n",
    "\n",
    "# visualize (this will write cgfem_esv2007_solution.vtu)\n",
    "gdt.make_discrete_function(space, u_h, 'solution').visualize('../cgfem_esv2007_solution')"
   ]
  }
 ],
 "metadata": {
  "kernelspec": {
   "display_name": "Python 3",
   "language": "python",
   "name": "python3"
  },
  "language_info": {
   "codemirror_mode": {
    "name": "ipython",
    "version": 3
   },
   "file_extension": ".py",
   "mimetype": "text/x-python",
   "name": "python",
   "nbconvert_exporter": "python",
   "pygments_lexer": "ipython3",
   "version": "3.4.2"
  }
 },
 "nbformat": 4,
 "nbformat_minor": 1
}
