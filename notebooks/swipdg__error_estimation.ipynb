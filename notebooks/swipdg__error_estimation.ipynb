{
 "cells": [
  {
   "cell_type": "code",
   "execution_count": null,
   "metadata": {},
   "outputs": [],
   "source": [
    "%run swipdg.ipynb"
   ]
  },
  {
   "cell_type": "code",
   "execution_count": null,
   "metadata": {
    "collapsed": true
   },
   "outputs": [],
   "source": [
    "import numpy as np"
   ]
  },
  {
   "cell_type": "code",
   "execution_count": null,
   "metadata": {},
   "outputs": [],
   "source": [
    "print('estimating error ...')\n",
    "print('')\n",
    "\n",
    "from dune.xt.functions import make_esv2007_cutoff_function_diffusion_factor_and_tensor_to_1x1 as make_esv2007_cutoff_function\n",
    "\n",
    "from dune.gdt import (\n",
    "    #make_elliptic_matrix_operator_istl_row_major_sparse_matrix_double as make_elliptic_matrix_operator,\n",
    "    #apply_oswald_interpolation_operator,\n",
    "    make_rt_leaf_view_to_2x1_pdelab_p0_space as make_rt_space,\n",
    "    #make_fv_leaf_view_to_1x1_gdt_space as make_fv_space,\n",
    "    #project,\n",
    "    apply_diffusive_flux_reconstruction_operator,\n",
    "    apply_weighted_l2_product_leaf_view as apply_weighted_l2_product,\n",
    "    make_local_diffusive_flux_estimation_esv2007_operator_to_1x1,\n",
    "    ResultStorage\n",
    ")\n",
    "\n",
    "#elliptic_operator_mu_bar = make_elliptic_matrix_operator(lambda_, kappa, space)\n",
    "\n",
    "# the nonconformity indicator\n",
    "#u_h_in_H10_vector = Vector(space.size(), 0.0)\n",
    "#u_h_in_H10 = make_discrete_function(space, u_h_in_H10_vector, 'u_h_in_H10')\n",
    "#apply_oswald_interpolation_operator(u_h, u_h_in_H10)\n",
    "#u_h_in_H10.visualize('../u_h_in_H10')\n",
    "#make_discrete_function(space, u_h_vector - u_h_in_H10_vector, 'u_h - u_h_in_H10').visualize('../u_h__minus__u_h_in_H10')\n",
    "#eta_nc = elliptic_operator_mu_bar.induced_norm(u_h_vector - u_h_in_H10_vector)\n",
    "#print('  nonconformity indicator: {} (should be 1.66e-01)'.format(eta_nc))\n",
    "\n",
    "# alternative computation:\n",
    "from dune.gdt import make_ESV2007_nonconformity_product_leaf_part\n",
    "nonconformity_product = make_ESV2007_nonconformity_product_leaf_part(grid, -1, -1, boundary_info,\n",
    "                                                                     lambda_, kappa,\n",
    "                                                                     u_h, u_h,\n",
    "                                                                     over_integrate=2)\n",
    "eta_nc = np.sqrt(nonconformity_product.apply2())\n",
    "print('  nonconformity indicator: {} (should be 1.66e-01)'.format(eta_nc))\n",
    "\n",
    "# the residual indicator\n",
    "rt_space = make_rt_space(grid)\n",
    "flux_reconxtruction_vector = Vector(rt_space.size(), 0.0)\n",
    "flux_reconstruction = make_discrete_function(rt_space, flux_reconxtruction_vector, 'flux reconstruction')\n",
    "apply_diffusive_flux_reconstruction_operator(lambda_, kappa, u_h, flux_reconstruction)\n",
    "#flux_divergence = flux_reconstruction.divergence()\n",
    "#cutoff_function = make_esv2007_cutoff_function(grid, lambda_, kappa, name='Cutoff function')\n",
    "#eta_r = np.sqrt(apply_weighted_l2_product(cutoff_function, f - flux_divergence, f - flux_divergence, grid, level=-1))\n",
    "#print('  residual indicator: {} (should be 7.23e-02)'.format(eta_r))\n",
    "\n",
    "# alternative computation:\n",
    "from dune.gdt import make_ESV2007_residual_product_leaf_view\n",
    "residual_product = make_ESV2007_residual_product_leaf_view(grid, -1, -1,\n",
    "                                                           lambda_, kappa, f,\n",
    "                                                           u_h, u_h,\n",
    "                                                           over_integrate=2)\n",
    "eta_r = np.sqrt(residual_product.apply2())\n",
    "print('  residual indicator: {} (should be 7.23e-02)'.format(eta_r))\n",
    "\n",
    "# the diffusive flux estimator\n",
    "#local_diffusive_flux_estimation_operator = make_local_diffusive_flux_estimation_esv2007_operator_to_1x1(lambda_,\n",
    "#                                                                                                        kappa,\n",
    "#                                                                                                        flux_reconstruction, over_integrate=2)\n",
    "#eta_df = ResultStorage()\n",
    "#system_assembler.append(local_diffusive_flux_estimation_operator, u_h, u_h, eta_df)\n",
    "#system_assembler.assemble()\n",
    "#eta_df = np.sqrt(eta_df.result)\n",
    "#print('  diffusive flux indicator: {} (should be 3.55e-01)'.format(eta_df))\n",
    "\n",
    "# alternative computation:\n",
    "from dune.gdt import make_ESV2007_diffusive_flux_product_leaf_view\n",
    "diffusive_flux_product = make_ESV2007_diffusive_flux_product_leaf_view(grid, -1, -1,\n",
    "                                                                       lambda_, kappa,\n",
    "                                                                       u_h, u_h, over_integrate=2)\n",
    "eta_df = np.sqrt(diffusive_flux_product.apply2())\n",
    "print('  diffusive flux indicator: {} (should be 3.55e-01)'.format(eta_df))"
   ]
  }
 ],
 "metadata": {
  "kernelspec": {
   "display_name": "Python 3",
   "language": "python",
   "name": "python3"
  },
  "language_info": {
   "codemirror_mode": {
    "name": "ipython",
    "version": 3
   },
   "file_extension": ".py",
   "mimetype": "text/x-python",
   "name": "python",
   "nbconvert_exporter": "python",
   "pygments_lexer": "ipython3",
   "version": "3.6.1"
  }
 },
 "nbformat": 4,
 "nbformat_minor": 1
}
