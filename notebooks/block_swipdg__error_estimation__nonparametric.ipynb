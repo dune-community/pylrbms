{
 "cells": [
  {
   "cell_type": "code",
   "execution_count": null,
   "metadata": {},
   "outputs": [],
   "source": [
    "%run block_swipdg.ipynb"
   ]
  },
  {
   "cell_type": "code",
   "execution_count": null,
   "metadata": {
    "collapsed": true
   },
   "outputs": [],
   "source": [
    "import numpy as np"
   ]
  },
  {
   "cell_type": "code",
   "execution_count": null,
   "metadata": {},
   "outputs": [],
   "source": [
    "print('estimating error ...')\n",
    "\n",
    "local_sizes = [block_space.local_space(ii).size() for ii in range(block_space.num_blocks)]\n",
    "local_starts = [int(np.sum(local_sizes[:ii])) for ii in range(block_space.num_blocks)]\n",
    "local_starts.append(block_space.mapper.size)\n",
    "localized_u_h_np = np.array(u_h_vector, copy=False)\n",
    "localized_u_h_np = [localized_u_h_np[local_starts[ii]:local_starts[ii+1]] for ii in range(block_space.num_blocks)]\n",
    "localized_u_h = [Vector(block_space.local_space(ii).size(), 0.) for ii in range(block_space.num_blocks)]\n",
    "for ii in range(block_space.num_blocks):\n",
    "    tmp = np.array(localized_u_h[ii], copy=False)\n",
    "    tmp[:] = localized_u_h_np[ii][:]\n",
    "local_boundary_info = make_subdomain_boundary_info(grid, {'type': 'xt.grid.boundaryinfo.boundarysegmentindexbased',\n",
    "                                                          'default': 'dirichlet',\n",
    "                                                          'neumann': '[{} {}]'.format(inner_boundary_id,\n",
    "                                                                                      inner_boundary_id+1)})\n",
    "\n",
    "# the local indicators\n",
    "from dune.gdt import (\n",
    "    make_ESV2007_nonconformity_product_dd_subdomain_part_dd_subdomain_oversampled_part\n",
    "        as make_local_nonconformity_product,\n",
    "    make_ESV2007_residual_product_dd_subdomain_part_leaf_view as make_local_ESV2007_residual_product,\n",
    "    make_OS2015_residual_product_dd_subdomain_part_leaf_view as make_local_OS2015_residual_product,\n",
    "    make_ESV2007_diffusive_flux_product_dd_subdomain_part_leaf_view as make_local_diffusive_flux_product\n",
    ")\n",
    "\n",
    "eta_nc_squared = 0.\n",
    "eta_r_ESV2007_squared = 0.\n",
    "eta_r_OS2015_squared = 0.\n",
    "eta_df_squared = 0.\n",
    "for ii in range(grid.num_subdomains):\n",
    "    neighborhood = grid.neighborhood_of(ii)\n",
    "    neighborhood_space = block_space.restricted_to_neighborhood(neighborhood)\n",
    "    restricted_u_h_vector = neighborhood_space.project_onto_neighborhood([localized_u_h[jj] for jj in neighborhood],\n",
    "                                                                         neighborhood)\n",
    "    restricted_u_h = make_discrete_function(neighborhood_space, restricted_u_h_vector, 'u_h')\n",
    "    # eta_nc\n",
    "    local_nonconformity_product = make_local_nonconformity_product(grid, ii, ii,\n",
    "                                                                   local_boundary_info,\n",
    "                                                                   lambda_, kappa,\n",
    "                                                                   restricted_u_h, restricted_u_h,\n",
    "                                                                   over_integrate=2)\n",
    "    eta_nc_squared += local_nonconformity_product.apply2()\n",
    "    # eta_r\n",
    "    # The following is not optimal, but the pdelab-based RT space does not work on the dd_subdomain_oversampled\n",
    "    # grid view modeling the neighborhood (at least is the underlying grid is a 2d simplex alugrid) and we thus\n",
    "    # need to reconstruct on the full leaf view.\n",
    "    restricted_u_h_with_global_support_vector = block_space.project_onto_neighborhood(\n",
    "        [localized_u_h[ii] if ii in neighborhood else Vector(block_space.local_space(ii).size(), 0.)\n",
    "         for ii in range(grid.num_subdomains)],\n",
    "        set([ii for ii in range(grid.num_subdomains)]))\n",
    "    restricted_u_h_with_global_support = make_discrete_function(block_space,\n",
    "                                                                restricted_u_h_with_global_support_vector)\n",
    "    local_ESV2007_residual_product = make_local_ESV2007_residual_product(grid, ii, -1,\n",
    "                                                                         lambda_, kappa, f,\n",
    "                                                                         restricted_u_h_with_global_support,\n",
    "                                                                         restricted_u_h_with_global_support,\n",
    "                                                                         over_integrate=2)\n",
    "    eta_r_ESV2007_squared += local_ESV2007_residual_product.apply2()\n",
    "    local_OS2015_residual_product = make_local_OS2015_residual_product(grid, ii, -1,\n",
    "                                                                       lambda_, lambda_, kappa, f,\n",
    "                                                                       restricted_u_h_with_global_support,\n",
    "                                                                       restricted_u_h_with_global_support,\n",
    "                                                                       over_integrate=2)\n",
    "    eta_r_OS2015_squared += local_OS2015_residual_product.apply2()\n",
    "    # eta df\n",
    "    # The same applies as above.\n",
    "    local_diffusive_flux_product = make_local_diffusive_flux_product(grid, ii, -1,\n",
    "                                                                     lambda_, kappa,\n",
    "                                                                     restricted_u_h_with_global_support,\n",
    "                                                                     restricted_u_h_with_global_support,\n",
    "                                                                     over_integrate=2)\n",
    "    eta_df_squared += local_diffusive_flux_product.apply2()\n",
    "\n",
    "print('  nonconformity indicator:      {} (should be 1.66e-01)'.format(np.sqrt(eta_nc_squared)))\n",
    "print('  residual indicator (ESV2007): {} (should be 7.23e-02)'.format(np.sqrt(eta_r_ESV2007_squared)))\n",
    "print('  residual indicator (OS2015):  {} (should be 2.89e-01)'.format(np.sqrt(eta_r_OS2015_squared)))\n",
    "print('  diffusive flux indicator:     {} (should be 3.55e-01)'.format(np.sqrt(eta_df_squared)))"
   ]
  }
 ],
 "metadata": {
  "kernelspec": {
   "display_name": "Python 3",
   "language": "python",
   "name": "python3"
  },
  "language_info": {
   "codemirror_mode": {
    "name": "ipython",
    "version": 3
   },
   "file_extension": ".py",
   "mimetype": "text/x-python",
   "name": "python",
   "nbconvert_exporter": "python",
   "pygments_lexer": "ipython3",
   "version": "3.6.1"
  }
 },
 "nbformat": 4,
 "nbformat_minor": 1
}
