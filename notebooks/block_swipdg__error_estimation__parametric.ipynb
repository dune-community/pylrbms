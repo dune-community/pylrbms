{
 "cells": [
  {
   "cell_type": "code",
   "execution_count": null,
   "metadata": {},
   "outputs": [],
   "source": [
    "%run block_swipdg.ipynb"
   ]
  },
  {
   "cell_type": "code",
   "execution_count": null,
   "metadata": {
    "collapsed": true
   },
   "outputs": [],
   "source": [
    "import numpy as np"
   ]
  },
  {
   "cell_type": "code",
   "execution_count": null,
   "metadata": {},
   "outputs": [],
   "source": [
    "print('estimating error ...')\n",
    "\n",
    "lambda_bar = lambda_\n",
    "lambda_hat = lambda_\n",
    "\n",
    "local_sizes = [block_space.local_space(ii).size() for ii in range(block_space.num_blocks)]\n",
    "local_starts = [int(np.sum(local_sizes[:ii])) for ii in range(block_space.num_blocks)]\n",
    "local_starts.append(block_space.mapper.size)\n",
    "localized_u_h_np = np.array(u_h_vector, copy=False)\n",
    "localized_u_h_np = [localized_u_h_np[local_starts[ii]:local_starts[ii+1]] for ii in range(block_space.num_blocks)]\n",
    "localized_u_h = [Vector(block_space.local_space(ii).size(), 0.) for ii in range(block_space.num_blocks)]\n",
    "for ii in range(block_space.num_blocks):\n",
    "    tmp = np.array(localized_u_h[ii], copy=False)\n",
    "    tmp[:] = localized_u_h_np[ii][:]\n",
    "local_boundary_info = make_subdomain_boundary_info(grid, {'type': 'xt.grid.boundaryinfo.boundarysegmentindexbased',\n",
    "                                                          'default': 'dirichlet',\n",
    "                                                          'neumann': '[{} {}]'.format(inner_boundary_id,\n",
    "                                                                                      inner_boundary_id+1)})\n",
    "\n",
    "# the local indicators\n",
    "from dune.gdt import (\n",
    "    make_ESV2007_nonconformity_product_dd_subdomain_part_dd_subdomain_oversampled_part\n",
    "        as make_local_nonconformity_product,\n",
    "    make_ESV2007_residual_product_dd_subdomain_part_leaf_view as make_local_residual_product,\n",
    "    make_ESV2007_diffusive_flux_product_dd_subdomain_part_leaf_view as make_local_diffusive_flux_product\n",
    ")\n",
    "\n",
    "eta_nc_squared = 0.\n",
    "eta_r_squared = 0.\n",
    "eta_df_squared = 0.\n",
    "\n",
    "for ii in range(grid.num_subdomains):\n",
    "    neighborhood = grid.neighborhood_of(ii)\n",
    "    neighborhood_space = block_space.restricted_to_neighborhood(neighborhood)\n",
    "\n",
    "    u_h_restricted_to_neighborhood_vector = neighborhood_space.project_onto_neighborhood(\n",
    "        [localized_u_h[kk] for kk in neighborhood], neighborhood)\n",
    "    u_h_restricted_to_neighborhood = make_discrete_function(neighborhood_space,\n",
    "                                                            u_h_restricted_to_neighborhood_vector)\n",
    "\n",
    "    def localize(ss):\n",
    "        return make_discrete_function(neighborhood_space,\n",
    "                                      neighborhood_space.project_onto_neighborhood(\n",
    "                                          [localized_u_h[kk] if kk == ss else Vector(block_space.local_space(ss).size(), 0.)\n",
    "                                           for kk in neighborhood],\n",
    "                                          neighborhood))\n",
    "    localized_u_hs = {ss: localize(ss) for ss in neighborhood}\n",
    "\n",
    "    for jj in neighborhood:\n",
    "        for kk in neighborhood:\n",
    "            eta_nc_squared += make_local_nonconformity_product(grid, ii, ii, local_boundary_info,\n",
    "                                                               lambda_hat, kappa,\n",
    "                                                               localized_u_hs[jj],\n",
    "                                                               localized_u_hs[kk],\n",
    "                                                               over_integrate=2).apply2()\n",
    "\n",
    "print('  nonconformity indicator: is {} (should be 1.66e-01)'.format(np.sqrt(eta_nc_squared)))"
   ]
  }
 ],
 "metadata": {
  "kernelspec": {
   "display_name": "Python 3",
   "language": "python",
   "name": "python3"
  },
  "language_info": {
   "codemirror_mode": {
    "name": "ipython",
    "version": 3
   },
   "file_extension": ".py",
   "mimetype": "text/x-python",
   "name": "python",
   "nbconvert_exporter": "python",
   "pygments_lexer": "ipython3",
   "version": "3.6.1"
  }
 },
 "nbformat": 4,
 "nbformat_minor": 1
}
